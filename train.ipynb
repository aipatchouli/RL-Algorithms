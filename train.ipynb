{
 "cells": [
  {
   "cell_type": "code",
   "execution_count": 10,
   "metadata": {},
   "outputs": [],
   "source": [
    "import os\n",
    "import random\n",
    "import time\n",
    "\n",
    "import numpy as np\n",
    "import tqdm\n",
    "from absl import app, flags\n",
    "from ml_collections import config_flags\n",
    "from tensorboardX import SummaryWriter\n",
    "\n",
    "from jaxRL.datasets.replay_buffer import ReplayBuffer\n",
    "from jaxRL.evaluation import evaluate\n",
    "from jaxRL.utils import make_env"
   ]
  }
 ],
 "metadata": {
  "kernelspec": {
   "display_name": "JAX",
   "language": "python",
   "name": "python3"
  },
  "language_info": {
   "codemirror_mode": {
    "name": "ipython",
    "version": 3
   },
   "file_extension": ".py",
   "mimetype": "text/x-python",
   "name": "python",
   "nbconvert_exporter": "python",
   "pygments_lexer": "ipython3",
   "version": "3.11.0"
  },
  "orig_nbformat": 4,
  "vscode": {
   "interpreter": {
    "hash": "03c6c4493b61693b8c237cfb67269810eda92c107a38587538648c43d13ad6a6"
   }
  }
 },
 "nbformat": 4,
 "nbformat_minor": 2
}
