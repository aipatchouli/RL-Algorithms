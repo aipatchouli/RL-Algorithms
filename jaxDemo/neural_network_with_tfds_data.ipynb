{
 "cells": [
  {
   "cell_type": "code",
   "execution_count": 2,
   "metadata": {},
   "outputs": [],
   "source": [
    "import jax.numpy as jnp\n",
    "from jax import grad, jit, vmap\n",
    "from jax import random\n",
    "from jax.scipy.special import logsumexp\n",
    "\n",
    "import numpy as np\n",
    "import time"
   ]
  },
  {
   "cell_type": "code",
   "execution_count": 3,
   "metadata": {},
   "outputs": [
    {
     "name": "stderr",
     "output_type": "stream",
     "text": [
      "No GPU/TPU found, falling back to CPU. (Set TF_CPP_MIN_LOG_LEVEL=0 and rerun for more info.)\n"
     ]
    }
   ],
   "source": [
    "# 初始化一层神经网络 weight 和 bias\n",
    "def random_layer_params(m, n, key, scale=1e-2):\n",
    "    w_key, b_key = random.split(key) \n",
    "    return scale * random.normal(w_key, (n, m)), scale * random.normal(b_key, (n,))\n",
    "\n",
    "# 初始化 MLP 所有层的 weight 和 bias, sizes 是一个 list，包含每一层的神经元个数\n",
    "def init_network_params(sizes, key, scale=1e-2):\n",
    "    keys = random.split(key, len(sizes))\n",
    "    return [random_layer_params(m, n, k, scale) for m, n, k in zip(sizes[:-1], sizes[1:], keys)]\n",
    "\n",
    "layer_size = [784, 512, 512, 10]\n",
    "step_size = 0.01\n",
    "num_epochs = 10\n",
    "batch_size = 128\n",
    "n_targets = 10\n",
    "params = init_network_params(layer_size, random.PRNGKey(0))"
   ]
  },
  {
   "cell_type": "code",
   "execution_count": 4,
   "metadata": {},
   "outputs": [],
   "source": [
    "# vmap auto-batching\n",
    "def relu(x):\n",
    "    return jnp.maximum(0, x)\n",
    "\n",
    "def predict(params, image):\n",
    "    activations = image\n",
    "    # 手动进行 forward propagation\n",
    "    for w, b in params[:-1]:\n",
    "        outputs = jnp.dot(w, activations) + b\n",
    "        activations = relu(outputs)\n",
    "    final_w, final_b = params[-1]\n",
    "    logits = jnp.dot(final_w, activations) + final_b\n",
    "    return logits - logsumexp(logits)"
   ]
  },
  {
   "cell_type": "code",
   "execution_count": 5,
   "metadata": {},
   "outputs": [
    {
     "name": "stdout",
     "output_type": "stream",
     "text": [
      "(10,)\n"
     ]
    }
   ],
   "source": [
    "# test predict for single image\n",
    "random_flattened_image = random.normal(random.PRNGKey(1), (28*28,))\n",
    "preds = predict(params, random_flattened_image)\n",
    "print(preds.shape)"
   ]
  },
  {
   "cell_type": "code",
   "execution_count": 6,
   "metadata": {},
   "outputs": [
    {
     "name": "stdout",
     "output_type": "stream",
     "text": [
      "(10, 10)\n"
     ]
    }
   ],
   "source": [
    "# 使用 vmap 自动 batch\n",
    "random_flattened_images = random.normal(random.PRNGKey(1), (10, 28*28))\n",
    "batched_predict = vmap(predict, in_axes=(None, 0))\n",
    "batched_preds = batched_predict(params, random_flattened_images)\n",
    "print(batched_preds.shape)"
   ]
  },
  {
   "cell_type": "code",
   "execution_count": 7,
   "metadata": {},
   "outputs": [],
   "source": [
    "# 效用 与 损失函数\n",
    "def one_hot(x, k, dtype=jnp.float32):\n",
    "    \"\"\"Create a one-hot encoding of x of size k.\"\"\"\n",
    "    return jnp.array(x[:, None] == jnp.arange(k), dtype)\n",
    "\n",
    "def accuracy(params, images, targets):\n",
    "    \"\"\"标签对比\"\"\"\n",
    "    target_class = jnp.argmax(targets, axis=1)\n",
    "    predicted_class = jnp.argmax(batched_predict(params, images), axis=1)\n",
    "    return jnp.mean(predicted_class == target_class)\n",
    "\n",
    "def loss(params, images, targets):\n",
    "    preds = batched_predict(params, images)\n",
    "    return -jnp.mean(preds * targets)\n",
    "\n",
    "@jit\n",
    "def update(params, x, y):\n",
    "    \"\"\"计算梯度并更新参数\"\"\"\n",
    "    grads = grad(loss)(params, x, y)\n",
    "    return [(w - step_size * dw, b - step_size * db)\n",
    "            for (w, b), (dw, db) in zip(params, grads)]"
   ]
  },
  {
   "cell_type": "code",
   "execution_count": 46,
   "metadata": {},
   "outputs": [
    {
     "name": "stdout",
     "output_type": "stream",
     "text": [
      "Train: (60000, 784) (60000, 10)\n",
      "Test: (10000, 784) (10000, 10)\n"
     ]
    }
   ],
   "source": [
    "data_dir = 'dataset/mnist/'\n",
    "with open(data_dir + 'train-images-idx3-ubyte', 'rb') as f:\n",
    "    train_images = np.frombuffer(f.read(), np.uint8, offset=16)\n",
    "train_images = train_images.reshape(-1, 28*28)\n",
    "train_images = jnp.reshape(train_images, (train_images.shape[0], -1))\n",
    "\n",
    "with open(data_dir + 'train-labels-idx1-ubyte', 'rb') as f:\n",
    "    train_labels = np.frombuffer(f.read(), np.uint8, offset=8)\n",
    "train_labels = train_labels.reshape(-1, )\n",
    "train_labels = one_hot(train_labels, n_targets)\n",
    "\n",
    "with open(data_dir + 't10k-images-idx3-ubyte', 'rb') as f:\n",
    "    test_images = np.frombuffer(f.read(), np.uint8, offset=16)\n",
    "test_images = test_images.reshape(-1, 28*28)\n",
    "test_images = jnp.reshape(test_images, (test_images.shape[0], -1))\n",
    "\n",
    "with open(data_dir + 't10k-labels-idx1-ubyte', 'rb') as f:\n",
    "    test_labels = np.frombuffer(f.read(), np.uint8, offset=8)\n",
    "test_labels = test_labels.reshape(-1, )\n",
    "test_labels = one_hot(test_labels, n_targets)\n",
    "\n",
    "print('Train:', train_images.shape, train_labels.shape)\n",
    "print('Test:', test_images.shape, test_labels.shape)"
   ]
  },
  {
   "cell_type": "code",
   "execution_count": 56,
   "metadata": {},
   "outputs": [
    {
     "name": "stdout",
     "output_type": "stream",
     "text": [
      "Epoch 0 in 2.24 sec\n",
      "Training set accuracy 0.9804999828338623\n",
      "Test set accuracy 0.9723999500274658\n",
      "Epoch 1 in 2.09 sec\n",
      "Training set accuracy 0.9834666848182678\n",
      "Test set accuracy 0.9727999567985535\n",
      "Epoch 2 in 2.25 sec\n",
      "Training set accuracy 0.9843167066574097\n",
      "Test set accuracy 0.9734999537467957\n",
      "Epoch 3 in 2.86 sec\n",
      "Training set accuracy 0.985883355140686\n",
      "Test set accuracy 0.973800003528595\n",
      "Epoch 4 in 2.72 sec\n",
      "Training set accuracy 0.9869666695594788\n",
      "Test set accuracy 0.9732999801635742\n",
      "Epoch 5 in 2.29 sec\n",
      "Training set accuracy 0.985450029373169\n",
      "Test set accuracy 0.9715999960899353\n",
      "Epoch 6 in 2.35 sec\n",
      "Training set accuracy 0.9890000224113464\n",
      "Test set accuracy 0.9754999876022339\n",
      "Epoch 7 in 2.55 sec\n",
      "Training set accuracy 0.9906833171844482\n",
      "Test set accuracy 0.9770999550819397\n",
      "Epoch 8 in 2.54 sec\n",
      "Training set accuracy 0.9909666776657104\n",
      "Test set accuracy 0.9770999550819397\n",
      "Epoch 9 in 2.36 sec\n",
      "Training set accuracy 0.9924833178520203\n",
      "Test set accuracy 0.9776999950408936\n"
     ]
    }
   ],
   "source": [
    "def get_train_batch():\n",
    "    idx = np.random.randint(0, train_images.shape[0], size=batch_size)\n",
    "    return train_images[idx, :], train_labels[idx, :]\n",
    "    \n",
    "\n",
    "for epoch in range(num_epochs):\n",
    "    start_time = time.time()\n",
    "    for _ in range(train_images.shape[0] // batch_size):\n",
    "        params = update(params, *get_train_batch())\n",
    "    epoch_time = time.time() - start_time\n",
    "\n",
    "    train_acc = accuracy(params, train_images, train_labels)\n",
    "    test_acc = accuracy(params, test_images, test_labels)\n",
    "    print(\"Epoch {} in {:0.2f} sec\".format(epoch, epoch_time))\n",
    "    print(\"Training set accuracy {}\".format(train_acc))\n",
    "    print(\"Test set accuracy {}\".format(test_acc))"
   ]
  },
  {
   "cell_type": "code",
   "execution_count": null,
   "metadata": {},
   "outputs": [],
   "source": []
  }
 ],
 "metadata": {
  "kernelspec": {
   "display_name": "JAX",
   "language": "python",
   "name": "python3"
  },
  "language_info": {
   "codemirror_mode": {
    "name": "ipython",
    "version": 3
   },
   "file_extension": ".py",
   "mimetype": "text/x-python",
   "name": "python",
   "nbconvert_exporter": "python",
   "pygments_lexer": "ipython3",
   "version": "3.11.0"
  },
  "orig_nbformat": 4,
  "vscode": {
   "interpreter": {
    "hash": "03c6c4493b61693b8c237cfb67269810eda92c107a38587538648c43d13ad6a6"
   }
  }
 },
 "nbformat": 4,
 "nbformat_minor": 2
}
